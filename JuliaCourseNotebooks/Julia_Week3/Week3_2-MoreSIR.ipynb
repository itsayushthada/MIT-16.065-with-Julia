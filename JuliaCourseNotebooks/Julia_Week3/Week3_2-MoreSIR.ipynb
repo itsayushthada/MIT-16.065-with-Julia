{
 "cells": [
  {
   "cell_type": "code",
   "execution_count": null,
   "metadata": {},
   "outputs": [],
   "source": [
    "# Setting up a custom stylesheet in IJulia\n",
    "file = open(\"style.css\") # A .css file in the same folder as this notebook file\n",
    "styl = read(file,String) # Read the file\n",
    "HTML(\"$styl\") # Output as HTML"
   ]
  },
  {
   "cell_type": "markdown",
   "metadata": {},
   "source": [
    "<h1> More on SIR models </h1>"
   ]
  },
  {
   "cell_type": "markdown",
   "metadata": {},
   "source": [
    "<h2>In this lecture</h2>\n",
    "\n",
    "- [Outcome](#Outcome)\n",
    "- [The threshold prediction of our SIR model](#The-threshold-prediction-of-our-SIR-model)\n",
    "- [The duration of infectiousness implied by our model](#The-duration-of-infectiousness-implied-by-our-model)\n",
    "- [A phase plane: plots of $I$ vs $S$](#A-phase-plane:-plots-of-$I$-vs-$S$)\n",
    "- [Putting it all together: estimates of $\\gamma$ and $\\lambda$](#Putting-it-all-together:-estimates-of-$\\gamma$-and-$\\lambda$)\n"
   ]
  },
  {
   "cell_type": "markdown",
   "metadata": {},
   "source": [
    "[Back to the top](#In-this-lecture)"
   ]
  },
  {
   "cell_type": "markdown",
   "metadata": {},
   "source": [
    "<h2>Outcome</h2>\n",
    "\n",
    "After this lecture, you will be able to\n",
    "- Explain the threshold phenomenon in SIR models\n",
    "- Use three-week duration of infectiousness to estimate $\\gamma$ in our EVD model\n",
    "- Plot the course of an epidemic in the $SI$ phase plane\n",
    "- Use country populations plus the threshold phenomenon to estimate $\\lambda$ in our EVD model"
   ]
  },
  {
   "cell_type": "markdown",
   "metadata": {},
   "source": [
    "[Back to the top](#In-this-lecture)"
   ]
  },
  {
   "cell_type": "markdown",
   "metadata": {},
   "source": [
    "<h2>The threshold prediction of our SIR model</h2>\n",
    "\n",
    "Recall the three equations of our SIR model:\n",
    "\n",
    "1 ...     $ S(t_{i+1}) = S(t_i) - \\lambda S(t_i)I(t_i)\\,dt$\n",
    "\n",
    "2 ...     $I(t_{i+1}) = I(t_i) + \\lambda S(t_i)I(t_i)\\,dt - \\gamma I(t_i)\\,dt$\n",
    "\n",
    "3 ...     $R(t_{i+1}) = R(t_i) + \\gamma I(t_i)\\,dt$\n",
    "\n",
    "And recall that $S(t)$ is a symbol for the size of the susceptible population (not yet infected) at time $t$, likewise $I(t)$ represents the infecteds, and $R(t)$ the removeds.\n",
    "\n",
    "The parameter $\\lambda$ models the likelihood that when an infected person meets a susceptible person, the susceptible person becomes infected.\n",
    "\n",
    "The parameter $\\gamma$ models the rate at which infected people become removed.\n",
    "\n",
    "Our task in this lecture is to propose estimates for the parameter values. To do so, we will use the *threshold phenomenon* of our model: for given values of $\\lambda$ and $\\gamma$, there is no epidemic unless $S(0)$ is big enough. \n",
    "\n",
    "The reasoning is simple: for an epidemic to happen, the infection must spread. But that means more people must be getting infected than are recovering. That is, the gain minus the loss of infecteds must be positive. In symbols, we must have\n",
    "\n",
    "$\\lambda SI - \\gamma I > 0$\n",
    "\n",
    "This can only happen if $\\lambda S - \\gamma > 0$. In other words, the number of infecteds can increase only when $S > \\gamma/\\lambda$.\n",
    "\n",
    "This implies that if the initial population is below the threshold, indicated by $S(0) < \\gamma/\\lambda$, then the number of infecteds, even if initially large, will decrease. That is, in a small enough population, any initial infection simply dies out. On the other hand, if $S(0)>\\gamma/\\lambda$, the number of infecteds will increase, at least for a while.\n",
    "\n",
    "It is of course obvious that for our model to apply to the West African epidemic, our parameter values must be such that the susceptible population at the beginning of 2014 was larger than $\\gamma/\\lambda$. \n",
    "\n"
   ]
  },
  {
   "cell_type": "markdown",
   "metadata": {},
   "source": [
    "[Back to the top](#In-this-lecture)"
   ]
  },
  {
   "cell_type": "markdown",
   "metadata": {},
   "source": [
    "<h2>The duration of infectiousness implied by our model</h2>\n",
    "\n",
    "We note that the loss rate of infecteds is given by $\\gamma I$. This means that every day, the fraction of infected people becoming removed is $\\gamma$.\n",
    "\n",
    "For example, consider $\\gamma = 1/10$. Then every day a tenth of ill people recover. If we assume that every person is ill for 10 days, and as many people are getting ill as recovering, then a tenth of all ill people recover every day.\n",
    "\n",
    "In other words, it makes sense to think of the duration of one person's illness as $1/\\gamma$. Recall that the duration of EVD is approximately three weeks. This means we may estimate that $1/\\gamma\\approx 21$. We will therefore set $\\gamma=0.05$ as a reasonable estimate.\n",
    "\n",
    "It is crude to think that they are equally infectious every day of these three weeks, but that is what we are doing. Our assumption was that the only difference between people is whether they are susceptible, infected or removed.\n",
    "\n",
    "Likewise, it is crude to think that all infected people are ill in the same way and for the same duration, but again this is what we do. In fact, without a lot more data (especially data on duration of illness) and a considerably more complicated model, this is all we can do. "
   ]
  },
  {
   "cell_type": "markdown",
   "metadata": {},
   "source": [
    "[Back to the top](#In-this-lecture)"
   ]
  },
  {
   "cell_type": "markdown",
   "metadata": {},
   "source": [
    "<h2>A phase plane: plots of $I$ vs $S$</h2>\n",
    "\n",
    "A good way to illustrate the threshold phenomenon is via plots of $I$ versus $S$. That is, we run the model as we did in the previous lecture, but now we plot the phase diagram. (Well, part of it---the full phase diagram gives all three dependent variables.)\n",
    "\n",
    "We re-use the code from the previous lecture (just cut and paste):\n"
   ]
  },
  {
   "cell_type": "code",
   "execution_count": null,
   "metadata": {},
   "outputs": [],
   "source": [
    "function updateSIR(popnvector)       # exactly the same function as before\n",
    "    susceptibles = popnvector[1];\n",
    "    infecteds    = popnvector[2]; \n",
    "    removeds     = popnvector[3];\n",
    "    newS = susceptibles - lambda*susceptibles*infecteds*dt\n",
    "    newI = infecteds + lambda*susceptibles*infecteds*dt - gam*infecteds*dt  \n",
    "    newR = removeds + gam*infecteds*dt\n",
    "    return [newS newI newR] \n",
    "end"
   ]
  },
  {
   "cell_type": "code",
   "execution_count": null,
   "metadata": {},
   "outputs": [],
   "source": [
    "# likewise, a run of the model uses exactly the same code ... but we'll play a bit with the values that determine a run\n",
    "\n",
    "gam = 1/20.         # recovery rate parameter  (ditto)\n",
    "lambda = 0.0005     # infection rate parameter\n",
    "dt = 0.5            # length of time step in days\n",
    "tfinal = 610.;      # respecting community values: lowercase only in the names \n",
    "s0 = 2000.          # initial susceptibles, note that we use the  type Float64 from the start\n",
    "i0 = 4.             # initial infecteds; set this to 1. to  mimic an epidemic with an index case\n",
    "r0 = 0.             # not always the case, of course\n",
    "\n",
    "# initialise \n",
    "nsteps = round(Int64, tfinal/dt)    # note the use of round() with type Int64 to ensure that nsteps is an integer\n",
    "resultvals = Array{Float64}(undef, nsteps+1, 3)  #initialise array of type Float64 to hold results\n",
    "timevec = Array{Float64}(undef, nsteps+1)        # ... ditto for time values\n",
    "resultvals[1,:] = [s0, i0, r0]  # ... and assign them to the first row\n",
    "timevec[1] = 0.                 # also Float64, of course.\n",
    "\n",
    "for step  = 1:nsteps\n",
    "    resultvals[step+1, :] = updateSIR(resultvals[step, :])  # NB! pay careful attention to the rows being used\n",
    "    timevec[step+1] = timevec[step] + dt\n",
    "end"
   ]
  },
  {
   "cell_type": "code",
   "execution_count": null,
   "metadata": {},
   "outputs": [],
   "source": [
    "using Plots  # and of course we need to load Plots and choose to use the GR backend\n",
    "gr()\n"
   ]
  },
  {
   "cell_type": "code",
   "execution_count": null,
   "metadata": {},
   "outputs": [],
   "source": [
    "# now we can plot the outcome  \n",
    "\n",
    "svals = resultvals[:,1];  # get the results\n",
    "ivals = resultvals[:,2];\n",
    "\n",
    "plot(svals, ivals, \n",
    "    title = \"First look at I vs S plot\",\n",
    "    xlabel = \"Susceptibles\",\n",
    "    ylabel = \"Infecteds\")        # and plot them\n",
    "\n",
    "# we first vary S(0); the initial threshold is (0.1)/(1/20000) = 2000\n",
    "# one can also vary gam and lambda and dt"
   ]
  },
  {
   "cell_type": "markdown",
   "metadata": {},
   "source": [
    "[Back to the top](#In-this-lecture)"
   ]
  },
  {
   "cell_type": "markdown",
   "metadata": {},
   "source": [
    "<h2>Putting it all together: estimates of $\\gamma$ and $\\lambda$</h2>\n",
    "\n",
    "We already have the estimate $\\gamma = 0.05$, based on a 20-day infectious period per patient.\n",
    "\n",
    "We now need estimates of $\\lambda$ and of $S(0)$ (we will discuss $I(0)$ and $R(0)$ later).\n",
    "\n",
    "Since at the beginning of the epidemic, one could not safely say that any person in the three countries concerned would never be exposed to the Ebola virus, we should assume that the susceptible population was the sum of the populations of Guinea, Liberia and Sierra Leone. Using Wikipedia, this gives us $S(0)=22\\times10^6$, because in total there are approximately 22 million people in these countries.\n",
    "\n",
    "Now we use the threshold, which we write as $S^\\ast = \\gamma/\\lambda$, so that $\\lambda = \\gamma/S^\\ast$. Assuming that our $S(0)$ is far larger than $S^\\ast$, because the epidemic was so severe, let us set $S^\\ast = 0.1S(0)=2.2\\times10^6$. This gives the estimate $\\lambda = 0.05/2.2\\times10^6 \\approx 2.3\\times10^{-8}$. \n",
    "\n",
    "Let's go back to our phase plot and put in these estimates."
   ]
  },
  {
   "cell_type": "markdown",
   "metadata": {},
   "source": [
    "[Back to the top](#In-this-lecture)"
   ]
  }
 ],
 "metadata": {
  "hide_input": false,
  "kernelspec": {
   "display_name": "Julia 1.0.0",
   "language": "julia",
   "name": "julia-1.0"
  },
  "language_info": {
   "file_extension": ".jl",
   "mimetype": "application/julia",
   "name": "julia",
   "version": "1.0.0"
  },
  "varInspector": {
   "cols": {
    "lenName": 16,
    "lenType": 16,
    "lenVar": 40
   },
   "kernels_config": {
    "python": {
     "delete_cmd_postfix": "",
     "delete_cmd_prefix": "del ",
     "library": "var_list.py",
     "varRefreshCmd": "print(var_dic_list())"
    },
    "r": {
     "delete_cmd_postfix": ") ",
     "delete_cmd_prefix": "rm(",
     "library": "var_list.r",
     "varRefreshCmd": "cat(var_dic_list()) "
    }
   },
   "types_to_exclude": [
    "module",
    "function",
    "builtin_function_or_method",
    "instance",
    "_Feature"
   ],
   "window_display": false
  }
 },
 "nbformat": 4,
 "nbformat_minor": 1
}
