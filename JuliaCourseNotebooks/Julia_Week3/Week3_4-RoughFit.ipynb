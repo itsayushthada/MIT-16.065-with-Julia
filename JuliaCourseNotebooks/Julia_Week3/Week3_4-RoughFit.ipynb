{
 "cells": [
  {
   "cell_type": "code",
   "execution_count": null,
   "metadata": {},
   "outputs": [],
   "source": [
    "# Setting up a custom stylesheet in IJulia\n",
    "file = open(\"style.css\") # A .css file in the same folder as this notebook file\n",
    "styl = read(file,String) # Read the file\n",
    "HTML(\"$styl\") # Output as HTML"
   ]
  },
  {
   "cell_type": "markdown",
   "metadata": {},
   "source": [
    "<h1> Using the data: a rough fit of the model parameters </h1>"
   ]
  },
  {
   "cell_type": "markdown",
   "metadata": {},
   "source": [
    "<h2>In this lecture</h2>\n",
    "\n",
    "- [Outcome](#Outcome)\n",
    "- [Total cases data: observation vs model](#Total-cases-data:-observation-vs-model)\n",
    "- [Interactively fitting the model to data using the notebook](#Interactively-fitting-the-model-to-data-using-the-notebook)\n"
   ]
  },
  {
   "cell_type": "markdown",
   "metadata": {},
   "source": [
    "[Back to the top](#In-this-lecture)"
   ]
  },
  {
   "cell_type": "markdown",
   "metadata": {},
   "source": [
    "<h2>Outcome</h2>\n",
    "\n",
    "After this lecture, you will be able to\n",
    "- Extract total number of cases per epidemic day from a a run of our EVD model\n",
    "- Use a plot to compare model values to observed values\n",
    "- Use the interactive notebook to adjust $\\lambda$, $\\gamma$ and $S(0)$ \n",
    "- Estimate quickly a fairly good set of values by improving the fit of the model to the data"
   ]
  },
  {
   "cell_type": "markdown",
   "metadata": {},
   "source": [
    "[Back to the top](#In-this-lecture)"
   ]
  },
  {
   "cell_type": "markdown",
   "metadata": {},
   "source": [
    "<h2>Total cases data: observation vs model</h2>\n",
    "\n",
    "When one fits data to a model, the first thing is to ensure that the numbers from the model and the numbers from observation really represent the same thing.\n",
    "\n",
    "In this case, the data reported in Wikipedia are of two kinds: total cases to date, and total deaths. Our model does not include deaths, so we cannot use that data. Moreover, in our model there is no explicit record of the number of cases. Therefore we have first to work out how to get our model to tell us what the total number of cases are.\n",
    "\n",
    "Fortunately, that is not hard. The total cases to date is the number of people who have ever been infected. But every such person is either in the infected group currently or has moved to the removed group. So the total number of cases at time $t$ is $I(t) + R(t)$. We will use $C(t)$ to denote the modelled number of cases, and $W(t)$ for the reported number of cases from Wikipedia."
   ]
  },
  {
   "cell_type": "markdown",
   "metadata": {},
   "source": [
    "Let us rerun the model as we left it at the end of the previous lecture, with the estimates from there:"
   ]
  },
  {
   "cell_type": "code",
   "execution_count": null,
   "metadata": {},
   "outputs": [],
   "source": [
    "using Plots  # might as well start by loading Plots and choose to use the GR backend\n",
    "gr()\n",
    "using DelimitedFiles  # we need this to read in the data \n",
    "\n",
    "# now lets get the total cases data\n",
    "EVDdata            = DelimitedFiles.readdlm(\"wikipediaEVDdatesconverted.csv\", ',')\n",
    "tvalsfromdata      = EVDdata[:,1]  # the epidemic day values\n",
    "totalcasesfromdata = EVDdata[:, 2]    # we'll extract individual countries when we need them\n",
    "\n",
    "# here's the function that drives the changes that happen every time step\n",
    "function updateSIR(popnvector)       # exactly the same function as before\n",
    "    susceptibles = popnvector[1];\n",
    "    infecteds    = popnvector[2]; \n",
    "    removeds     = popnvector[3];\n",
    "    newS = susceptibles - lambda*susceptibles*infecteds*dt\n",
    "    newI = infecteds + lambda*susceptibles*infecteds*dt - gam*infecteds*dt  \n",
    "    newR = removeds + gam*infecteds*dt\n",
    "    return [newS newI newR] \n",
    "end\n",
    "\n",
    "# this cell we need to run only once"
   ]
  },
  {
   "cell_type": "code",
   "execution_count": null,
   "metadata": {},
   "outputs": [],
   "source": [
    "# set parameter values\n",
    "lambda = 2.3*10^-8.   # infection rate parameter (assumes rates are per day)\n",
    "gam = 0.05      # recovery rate parameter  (ditto)\n",
    "dt = 0.5         # length of time step in days\n",
    "tfinal = 610.;    # respecting community values: lowercase only in the names \n",
    "\n",
    "# set initial values (originally s0, lambda, gam, i0 = 22.*10^6., 2.3*10^-8., 0.05, 40. )\n",
    "s0 = 22.0*10^6.     # initial susceptibles, note that we use the  type Float64 from the start\n",
    "i0 = 40.          # initial infecteds; set this to 1. to  mimic an epidemic with an index case\n",
    "r0 = 0.          # not always the case, of course\n",
    "\n",
    "# initialise \n",
    "nsteps = round(Int64, tfinal/dt)    # note the use of round() with type Int64 to ensure that nsteps is an integer\n",
    "resultvals = Array{Float64}(undef, nsteps+1, 3)  #initialise array of type Float64 to hold results\n",
    "timevec = Array{Float64}(undef, nsteps+1)        # ... ditto for time values\n",
    "resultvals[1,:] = [s0, i0, r0]  # ... and assign them to the first row\n",
    "timevec[1] = 0.                 # also Float64, of course.\n",
    "\n",
    "# the main loop over time steps\n",
    "for step  = 1:nsteps\n",
    "    resultvals[step+1, :] = updateSIR(resultvals[step, :])  # NB! pay careful attention to the rows being used\n",
    "    timevec[step+1] = timevec[step] + dt\n",
    "end\n",
    "\n",
    "# make the plot\n",
    "ivals = resultvals[:, 2]\n",
    "rvals = resultvals[:, 3]\n",
    "cvals = ivals + rvals     # assemble the model values for the case\n",
    "\n",
    "plot(timevec, cvals,       # first the model's output s plotted as a line\n",
    "label = \"Model values\",\n",
    "xlabel = \"Epidemic day\",\n",
    "ylabel = \"Number of cases to date\",\n",
    "title = \"Model versus data\")\n",
    "\n",
    "plot!(tvalsfromdata, totalcasesfromdata,\n",
    "legend = :right,\n",
    "line = :scatter,\n",
    "label = \"Reported number of cases\")"
   ]
  },
  {
   "cell_type": "markdown",
   "metadata": {},
   "source": [
    "There's quite a lot wrong here! Obviously the epidemic is going to far, too fast. "
   ]
  },
  {
   "cell_type": "markdown",
   "metadata": {},
   "source": [
    "[Back to the top](#In-this-lecture)"
   ]
  },
  {
   "cell_type": "markdown",
   "metadata": {},
   "source": [
    "<h2>Interactively fitting the model to data using the notebook</h2>\n",
    "\n",
    "We now interactively use the notebook, changing the values of $S(0)$, $\\lambda$ and $\\gamma$. In fact, it makes a difference what we set $I(0)$ as well, because that influences the  start of the modelled epidemic quite a bit. While in principle also $R(0)$ also matters, it is very small and hence it's influence is minimal.\n",
    "\n",
    "It turns out that we have to adjust $S(0)$ especially, and accordingly the value of $\\lambda$ needs to be adjusted as well.\n",
    "\n",
    "No need to write out new code, we just navigate up to the cell where the model is run and plotted, and play there.\n",
    "\n",
    "(The values of using $S(0) = 10^5$, $I(0) = 20$, $\\gamma = 1/8$ and $\\lambda = 1.47 \\times 10^{−6}$ were found by extensive experimentation of this kind)."
   ]
  },
  {
   "cell_type": "markdown",
   "metadata": {},
   "source": [
    "[Back to the top](#In-this-lecture)"
   ]
  }
 ],
 "metadata": {
  "hide_input": false,
  "kernelspec": {
   "display_name": "Julia 1.0.0",
   "language": "julia",
   "name": "julia-1.0"
  },
  "language_info": {
   "file_extension": ".jl",
   "mimetype": "application/julia",
   "name": "julia",
   "version": "1.0.0"
  },
  "varInspector": {
   "cols": {
    "lenName": 16,
    "lenType": 16,
    "lenVar": 40
   },
   "kernels_config": {
    "python": {
     "delete_cmd_postfix": "",
     "delete_cmd_prefix": "del ",
     "library": "var_list.py",
     "varRefreshCmd": "print(var_dic_list())"
    },
    "r": {
     "delete_cmd_postfix": ") ",
     "delete_cmd_prefix": "rm(",
     "library": "var_list.r",
     "varRefreshCmd": "cat(var_dic_list()) "
    }
   },
   "types_to_exclude": [
    "module",
    "function",
    "builtin_function_or_method",
    "instance",
    "_Feature"
   ],
   "window_display": false
  }
 },
 "nbformat": 4,
 "nbformat_minor": 1
}
