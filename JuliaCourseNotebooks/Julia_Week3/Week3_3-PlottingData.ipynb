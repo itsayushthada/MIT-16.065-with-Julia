{
 "cells": [
  {
   "cell_type": "code",
   "execution_count": null,
   "metadata": {},
   "outputs": [],
   "source": [
    "# Setting up a custom stylesheet in IJulia\n",
    "file = open(\"style.css\") # A .css file in the same folder as this notebook file\n",
    "styl = read(file, String) # Read the file\n",
    "HTML(\"$styl\") # Output as HTML"
   ]
  },
  {
   "cell_type": "markdown",
   "metadata": {},
   "source": [
    "<h1> Plotting data and an approximately fitted line simultaneously </h1>"
   ]
  },
  {
   "cell_type": "markdown",
   "metadata": {},
   "source": [
    "<h2>In this lecture</h2>\n",
    "\n",
    "- [Outcome](#Outcome)\n",
    "- [Julia's modify-the-argument functions](#Julia's-modify-the-argument-functions)\n",
    "- [The difference between plot() and plot!()](#The-difference-between-\"plot\"-and-\"plot!\")\n",
    "- [An example: approximating the cosine function](#An-example:-approximating-the-cosine-function)"
   ]
  },
  {
   "cell_type": "markdown",
   "metadata": {},
   "source": [
    "[Back to the top](#In-this-lecture)"
   ]
  },
  {
   "cell_type": "markdown",
   "metadata": {},
   "source": [
    "<h2>Outcome</h2>\n",
    "\n",
    "After this lecture, you will be able to\n",
    "- Explain how, in Julia's Plots package, the ``plot!()`` function differs from ``plot()``\n",
    "- Use ``plot!()`` to overlay a fitted curve to a scatter of data\n",
    "- Modify the plot: adding labels, axis styles, line styles etc\n"
   ]
  },
  {
   "cell_type": "markdown",
   "metadata": {},
   "source": [
    "[Back to the top](#In-this-lecture)"
   ]
  },
  {
   "cell_type": "markdown",
   "metadata": {},
   "source": [
    "<h2>Julia's modify-the-argument functions</h2>\n",
    "\n",
    "A lovely feature of Julia is the convention of labelling modify-the-argument functions with an exclamation mark.\n",
    "\n",
    "For example, consider the function ``fill!()``, illustrated below."
   ]
  },
  {
   "cell_type": "code",
   "execution_count": 4,
   "metadata": {},
   "outputs": [
    {
     "data": {
      "text/plain": [
       "4-element Array{Any,1}:\n",
       " \"hello ... word\"\n",
       " \"hello ... word\"\n",
       " \"hello ... word\"\n",
       " \"hello ... word\""
      ]
     },
     "execution_count": 4,
     "metadata": {},
     "output_type": "execute_result"
    }
   ],
   "source": [
    "tempvar = Array{Any}(undef,4)\n",
    "fill!(tempvar, \"hello ... word\")"
   ]
  },
  {
   "cell_type": "code",
   "execution_count": 5,
   "metadata": {},
   "outputs": [
    {
     "data": {
      "text/plain": [
       "4-element Array{Any,1}:\n",
       " π = 3.1415926535897...\n",
       " π = 3.1415926535897...\n",
       " π = 3.1415926535897...\n",
       " π = 3.1415926535897..."
      ]
     },
     "execution_count": 5,
     "metadata": {},
     "output_type": "execute_result"
    }
   ],
   "source": [
    "fill!(tempvar, π)"
   ]
  },
  {
   "cell_type": "markdown",
   "metadata": {},
   "source": [
    "We see that quite a few functions have a plain form and an exclamation form, for example ```any``` and ```any!```. \n",
    "\n",
    "Many of the exclamation-ending-modify-in-place functions do things like add or remove values. They tend to be low level functions. The advantage of course is that as values are created they are written to space in memory that is already in use. This can speed up one's code significantly, and can also be important when your data sets are so large that memory efficiency becomes an issue."
   ]
  },
  {
   "cell_type": "markdown",
   "metadata": {},
   "source": [
    "[Back to the top](#In-this-lecture)"
   ]
  },
  {
   "cell_type": "markdown",
   "metadata": {},
   "source": [
    "<h2>The difference between \"plot\" and \"plot!\"</h2>\n",
    "\n",
    "As we remarked, Plots is a package for using all the Julia plotting packages. The designer of Plots made the interesting choice (I think) to have only one active plot: if you want to make a different plot, you save your current plot and start on a new one. This simplifies the display of a plot. In our case, the notebook allows us to view different plots, because each plot is saved with its particular cell. In keeping with the idea of Plots, you cannot associate more than one plot with a cell.\n",
    "\n",
    "So in general, if you call p``lot()`` a second time, it wipes out the old plot and draws a completely new one. But Plots *also* doesn't allow you to specify multiple different x-values for your plot. You can plot many different curves, as we did for the different countries' Ebola numbers (week 2, lecture 5), but only if they all use the same x-values.\n",
    "\n",
    "To enable us to plot completely different curves, not only in style and colour and so on but also completely different x- and y-values, Plots gives us a function that modifies an existing plot. This function is ``plot!()``.\n",
    "\n",
    "So the idea is the following: specify a plot for the first set of data using ``plot()``, and then specify, on the same plot, a second set of data by using ``plot!``."
   ]
  },
  {
   "cell_type": "markdown",
   "metadata": {},
   "source": [
    "[Back to the top](#In-this-lecture)"
   ]
  },
  {
   "cell_type": "markdown",
   "metadata": {},
   "source": [
    "<h2>An example: approximating the cosine function</h2>\n",
    "\n",
    "An example will make this clear. It is well known that the cosine function has approximations based on  Taylor series. We will use the fact that \n",
    "\n",
    "$cos(x) \\approx 1 - \\dfrac{x^2}{2} + \\dfrac{x^4}{24} - \\dfrac{x^6}{720}$\n",
    "\n",
    "is an excellent approximation as long as $x$ is near zero. We will pretend the approximate values are experimental data, so there are just a few points. Then we compare the actual function as a curve, and compare them.\n",
    "\n",
    "While we're at it, let's practice writing functions. We will write a function that takes a whole vector as input, and one by one evaluates the elements using the approximation formula, and then returns an output vector of the same size as the input."
   ]
  },
  {
   "cell_type": "code",
   "execution_count": 6,
   "metadata": {},
   "outputs": [],
   "source": [
    "function approxcos(x)\n",
    "    #initialise the output ... note the use of size() to specify the dimensions of the output vector\n",
    "    outval = Array{Any}(undef,size(x))  \n",
    "    \n",
    "    # now we loop over the input vector, and for each  element calculate and store the approximation\n",
    "    ii = 0  # this will be the index into the vector\n",
    "    for aa in x   # this aa is just a number, an element of the vector\n",
    "        y = 1 - aa^2/2 + aa^4/24 - aa^6/720 + aa^8/(56*720) # the approximation ...\n",
    "        ii = ii+1            #this sets the index correctly\n",
    "        outval[ii] = y     # and this stores the approximation in the right place\n",
    "    \n",
    "    end\n",
    "    \n",
    "    return outval  \n",
    "end\n",
    "\n",
    "\n",
    "\n",
    "\n",
    "x1 = 4*rand(10)  # rand() is one of several random number functions in Julia. \n",
    "#                  It returns numbers that uniformly fill the interval [0, 1)\n",
    "#                   .... here we use it get a set of sampling points in the interval [0, 4)\n",
    "\n",
    "x2 = range(0., stop=4., step=0.01)   # look up range() using \"?\" ... it's a nice way to get evenly spaced points\n",
    "\n",
    "\n",
    "y1 = approxcos(x1)\n",
    "y2 = cos.(x2);\n"
   ]
  },
  {
   "cell_type": "code",
   "execution_count": 7,
   "metadata": {
    "scrolled": false
   },
   "outputs": [
    {
     "data": {
      "image/svg+xml": [
       "<?xml version=\"1.0\" encoding=\"utf-8\"?>\n",
       "<svg xmlns=\"http://www.w3.org/2000/svg\" xmlns:xlink=\"http://www.w3.org/1999/xlink\" width=\"600\" height=\"400\" viewBox=\"0 0 2400 1600\">\n",
       "<defs>\n",
       "  <clipPath id=\"clip3200\">\n",
       "    <rect x=\"0\" y=\"0\" width=\"2400\" height=\"1600\"/>\n",
       "  </clipPath>\n",
       "</defs>\n",
       "<polygon clip-path=\"url(#clip3200)\" points=\"\n",
       "0,1600 2400,1600 2400,0 0,0 \n",
       "  \" fill=\"#ffffff\" fill-rule=\"evenodd\" fill-opacity=\"1\"/>\n",
       "<defs>\n",
       "  <clipPath id=\"clip3201\">\n",
       "    <rect x=\"480\" y=\"0\" width=\"1681\" height=\"1600\"/>\n",
       "  </clipPath>\n",
       "</defs>\n",
       "<polygon clip-path=\"url(#clip3200)\" points=\"\n",
       "182.008,1487.47 2352.76,1487.47 2352.76,121.675 182.008,121.675 \n",
       "  \" fill=\"#ffffff\" fill-rule=\"evenodd\" fill-opacity=\"1\"/>\n",
       "<defs>\n",
       "  <clipPath id=\"clip3202\">\n",
       "    <rect x=\"182\" y=\"121\" width=\"2172\" height=\"1367\"/>\n",
       "  </clipPath>\n",
       "</defs>\n",
       "<polyline clip-path=\"url(#clip3202)\" style=\"stroke:#000000; stroke-width:2; stroke-opacity:0.1; fill:none\" points=\"\n",
       "  243.444,1487.47 243.444,121.675 \n",
       "  \"/>\n",
       "<polyline clip-path=\"url(#clip3202)\" style=\"stroke:#000000; stroke-width:2; stroke-opacity:0.1; fill:none\" points=\"\n",
       "  755.413,1487.47 755.413,121.675 \n",
       "  \"/>\n",
       "<polyline clip-path=\"url(#clip3202)\" style=\"stroke:#000000; stroke-width:2; stroke-opacity:0.1; fill:none\" points=\"\n",
       "  1267.38,1487.47 1267.38,121.675 \n",
       "  \"/>\n",
       "<polyline clip-path=\"url(#clip3202)\" style=\"stroke:#000000; stroke-width:2; stroke-opacity:0.1; fill:none\" points=\"\n",
       "  1779.35,1487.47 1779.35,121.675 \n",
       "  \"/>\n",
       "<polyline clip-path=\"url(#clip3202)\" style=\"stroke:#000000; stroke-width:2; stroke-opacity:0.1; fill:none\" points=\"\n",
       "  2291.32,1487.47 2291.32,121.675 \n",
       "  \"/>\n",
       "<polyline clip-path=\"url(#clip3202)\" style=\"stroke:#000000; stroke-width:2; stroke-opacity:0.1; fill:none\" points=\"\n",
       "  182.008,1448.82 2352.76,1448.82 \n",
       "  \"/>\n",
       "<polyline clip-path=\"url(#clip3202)\" style=\"stroke:#000000; stroke-width:2; stroke-opacity:0.1; fill:none\" points=\"\n",
       "  182.008,1126.7 2352.76,1126.7 \n",
       "  \"/>\n",
       "<polyline clip-path=\"url(#clip3202)\" style=\"stroke:#000000; stroke-width:2; stroke-opacity:0.1; fill:none\" points=\"\n",
       "  182.008,804.575 2352.76,804.575 \n",
       "  \"/>\n",
       "<polyline clip-path=\"url(#clip3202)\" style=\"stroke:#000000; stroke-width:2; stroke-opacity:0.1; fill:none\" points=\"\n",
       "  182.008,482.453 2352.76,482.453 \n",
       "  \"/>\n",
       "<polyline clip-path=\"url(#clip3202)\" style=\"stroke:#000000; stroke-width:2; stroke-opacity:0.1; fill:none\" points=\"\n",
       "  182.008,160.33 2352.76,160.33 \n",
       "  \"/>\n",
       "<polyline clip-path=\"url(#clip3200)\" style=\"stroke:#000000; stroke-width:4; stroke-opacity:1; fill:none\" points=\"\n",
       "  182.008,1487.47 2352.76,1487.47 \n",
       "  \"/>\n",
       "<polyline clip-path=\"url(#clip3200)\" style=\"stroke:#000000; stroke-width:4; stroke-opacity:1; fill:none\" points=\"\n",
       "  182.008,1487.47 182.008,121.675 \n",
       "  \"/>\n",
       "<polyline clip-path=\"url(#clip3200)\" style=\"stroke:#000000; stroke-width:4; stroke-opacity:1; fill:none\" points=\"\n",
       "  243.444,1487.47 243.444,1466.99 \n",
       "  \"/>\n",
       "<polyline clip-path=\"url(#clip3200)\" style=\"stroke:#000000; stroke-width:4; stroke-opacity:1; fill:none\" points=\"\n",
       "  755.413,1487.47 755.413,1466.99 \n",
       "  \"/>\n",
       "<polyline clip-path=\"url(#clip3200)\" style=\"stroke:#000000; stroke-width:4; stroke-opacity:1; fill:none\" points=\"\n",
       "  1267.38,1487.47 1267.38,1466.99 \n",
       "  \"/>\n",
       "<polyline clip-path=\"url(#clip3200)\" style=\"stroke:#000000; stroke-width:4; stroke-opacity:1; fill:none\" points=\"\n",
       "  1779.35,1487.47 1779.35,1466.99 \n",
       "  \"/>\n",
       "<polyline clip-path=\"url(#clip3200)\" style=\"stroke:#000000; stroke-width:4; stroke-opacity:1; fill:none\" points=\"\n",
       "  2291.32,1487.47 2291.32,1466.99 \n",
       "  \"/>\n",
       "<polyline clip-path=\"url(#clip3200)\" style=\"stroke:#000000; stroke-width:4; stroke-opacity:1; fill:none\" points=\"\n",
       "  182.008,1448.82 214.569,1448.82 \n",
       "  \"/>\n",
       "<polyline clip-path=\"url(#clip3200)\" style=\"stroke:#000000; stroke-width:4; stroke-opacity:1; fill:none\" points=\"\n",
       "  182.008,1126.7 214.569,1126.7 \n",
       "  \"/>\n",
       "<polyline clip-path=\"url(#clip3200)\" style=\"stroke:#000000; stroke-width:4; stroke-opacity:1; fill:none\" points=\"\n",
       "  182.008,804.575 214.569,804.575 \n",
       "  \"/>\n",
       "<polyline clip-path=\"url(#clip3200)\" style=\"stroke:#000000; stroke-width:4; stroke-opacity:1; fill:none\" points=\"\n",
       "  182.008,482.453 214.569,482.453 \n",
       "  \"/>\n",
       "<polyline clip-path=\"url(#clip3200)\" style=\"stroke:#000000; stroke-width:4; stroke-opacity:1; fill:none\" points=\"\n",
       "  182.008,160.33 214.569,160.33 \n",
       "  \"/>\n",
       "<g clip-path=\"url(#clip3200)\">\n",
       "<text style=\"fill:#000000; fill-opacity:1; font-family:Arial,Helvetica Neue,Helvetica,sans-serif; font-size:48px; text-anchor:middle;\" transform=\"rotate(0, 243.444, 1541.47)\" x=\"243.444\" y=\"1541.47\">0</text>\n",
       "</g>\n",
       "<g clip-path=\"url(#clip3200)\">\n",
       "<text style=\"fill:#000000; fill-opacity:1; font-family:Arial,Helvetica Neue,Helvetica,sans-serif; font-size:48px; text-anchor:middle;\" transform=\"rotate(0, 755.413, 1541.47)\" x=\"755.413\" y=\"1541.47\">1</text>\n",
       "</g>\n",
       "<g clip-path=\"url(#clip3200)\">\n",
       "<text style=\"fill:#000000; fill-opacity:1; font-family:Arial,Helvetica Neue,Helvetica,sans-serif; font-size:48px; text-anchor:middle;\" transform=\"rotate(0, 1267.38, 1541.47)\" x=\"1267.38\" y=\"1541.47\">2</text>\n",
       "</g>\n",
       "<g clip-path=\"url(#clip3200)\">\n",
       "<text style=\"fill:#000000; fill-opacity:1; font-family:Arial,Helvetica Neue,Helvetica,sans-serif; font-size:48px; text-anchor:middle;\" transform=\"rotate(0, 1779.35, 1541.47)\" x=\"1779.35\" y=\"1541.47\">3</text>\n",
       "</g>\n",
       "<g clip-path=\"url(#clip3200)\">\n",
       "<text style=\"fill:#000000; fill-opacity:1; font-family:Arial,Helvetica Neue,Helvetica,sans-serif; font-size:48px; text-anchor:middle;\" transform=\"rotate(0, 2291.32, 1541.47)\" x=\"2291.32\" y=\"1541.47\">4</text>\n",
       "</g>\n",
       "<g clip-path=\"url(#clip3200)\">\n",
       "<text style=\"fill:#000000; fill-opacity:1; font-family:Arial,Helvetica Neue,Helvetica,sans-serif; font-size:48px; text-anchor:end;\" transform=\"rotate(0, 158.008, 1466.32)\" x=\"158.008\" y=\"1466.32\">-1.0</text>\n",
       "</g>\n",
       "<g clip-path=\"url(#clip3200)\">\n",
       "<text style=\"fill:#000000; fill-opacity:1; font-family:Arial,Helvetica Neue,Helvetica,sans-serif; font-size:48px; text-anchor:end;\" transform=\"rotate(0, 158.008, 1144.2)\" x=\"158.008\" y=\"1144.2\">-0.5</text>\n",
       "</g>\n",
       "<g clip-path=\"url(#clip3200)\">\n",
       "<text style=\"fill:#000000; fill-opacity:1; font-family:Arial,Helvetica Neue,Helvetica,sans-serif; font-size:48px; text-anchor:end;\" transform=\"rotate(0, 158.008, 822.075)\" x=\"158.008\" y=\"822.075\">0.0</text>\n",
       "</g>\n",
       "<g clip-path=\"url(#clip3200)\">\n",
       "<text style=\"fill:#000000; fill-opacity:1; font-family:Arial,Helvetica Neue,Helvetica,sans-serif; font-size:48px; text-anchor:end;\" transform=\"rotate(0, 158.008, 499.953)\" x=\"158.008\" y=\"499.953\">0.5</text>\n",
       "</g>\n",
       "<g clip-path=\"url(#clip3200)\">\n",
       "<text style=\"fill:#000000; fill-opacity:1; font-family:Arial,Helvetica Neue,Helvetica,sans-serif; font-size:48px; text-anchor:end;\" transform=\"rotate(0, 158.008, 177.83)\" x=\"158.008\" y=\"177.83\">1.0</text>\n",
       "</g>\n",
       "<g clip-path=\"url(#clip3200)\">\n",
       "<text style=\"fill:#000000; fill-opacity:1; font-family:Arial,Helvetica Neue,Helvetica,sans-serif; font-size:84px; text-anchor:middle;\" transform=\"rotate(0, 1267.38, 73.2)\" x=\"1267.38\" y=\"73.2\">Illustrating 6th-order approximation to cos</text>\n",
       "</g>\n",
       "<circle clip-path=\"url(#clip3202)\" style=\"fill:#000000; stroke:none; fill-opacity:1\" cx=\"687.099\" cy=\"387.46\" r=\"18\"/>\n",
       "<circle clip-path=\"url(#clip3202)\" style=\"fill:#009af9; stroke:none; fill-opacity:1\" cx=\"687.099\" cy=\"387.46\" r=\"14\"/>\n",
       "<circle clip-path=\"url(#clip3202)\" style=\"fill:#000000; stroke:none; fill-opacity:1\" cx=\"413.148\" cy=\"195.4\" r=\"18\"/>\n",
       "<circle clip-path=\"url(#clip3202)\" style=\"fill:#009af9; stroke:none; fill-opacity:1\" cx=\"413.148\" cy=\"195.4\" r=\"14\"/>\n",
       "<circle clip-path=\"url(#clip3202)\" style=\"fill:#000000; stroke:none; fill-opacity:1\" cx=\"359.276\" cy=\"176.748\" r=\"18\"/>\n",
       "<circle clip-path=\"url(#clip3202)\" style=\"fill:#009af9; stroke:none; fill-opacity:1\" cx=\"359.276\" cy=\"176.748\" r=\"14\"/>\n",
       "<circle clip-path=\"url(#clip3202)\" style=\"fill:#000000; stroke:none; fill-opacity:1\" cx=\"1691.34\" cy=\"1411.95\" r=\"18\"/>\n",
       "<circle clip-path=\"url(#clip3202)\" style=\"fill:#009af9; stroke:none; fill-opacity:1\" cx=\"1691.34\" cy=\"1411.95\" r=\"14\"/>\n",
       "<circle clip-path=\"url(#clip3202)\" style=\"fill:#000000; stroke:none; fill-opacity:1\" cx=\"1250.22\" cy=\"1052.75\" r=\"18\"/>\n",
       "<circle clip-path=\"url(#clip3202)\" style=\"fill:#009af9; stroke:none; fill-opacity:1\" cx=\"1250.22\" cy=\"1052.75\" r=\"14\"/>\n",
       "<circle clip-path=\"url(#clip3202)\" style=\"fill:#000000; stroke:none; fill-opacity:1\" cx=\"1049.34\" cy=\"806.692\" r=\"18\"/>\n",
       "<circle clip-path=\"url(#clip3202)\" style=\"fill:#009af9; stroke:none; fill-opacity:1\" cx=\"1049.34\" cy=\"806.692\" r=\"14\"/>\n",
       "<circle clip-path=\"url(#clip3202)\" style=\"fill:#000000; stroke:none; fill-opacity:1\" cx=\"1053.22\" cy=\"811.572\" r=\"18\"/>\n",
       "<circle clip-path=\"url(#clip3202)\" style=\"fill:#009af9; stroke:none; fill-opacity:1\" cx=\"1053.22\" cy=\"811.572\" r=\"14\"/>\n",
       "<circle clip-path=\"url(#clip3202)\" style=\"fill:#000000; stroke:none; fill-opacity:1\" cx=\"1186.64\" cy=\"977.267\" r=\"18\"/>\n",
       "<circle clip-path=\"url(#clip3202)\" style=\"fill:#009af9; stroke:none; fill-opacity:1\" cx=\"1186.64\" cy=\"977.267\" r=\"14\"/>\n",
       "<circle clip-path=\"url(#clip3202)\" style=\"fill:#000000; stroke:none; fill-opacity:1\" cx=\"381.359\" cy=\"183.564\" r=\"18\"/>\n",
       "<circle clip-path=\"url(#clip3202)\" style=\"fill:#009af9; stroke:none; fill-opacity:1\" cx=\"381.359\" cy=\"183.564\" r=\"14\"/>\n",
       "<circle clip-path=\"url(#clip3202)\" style=\"fill:#000000; stroke:none; fill-opacity:1\" cx=\"399.793\" cy=\"190.139\" r=\"18\"/>\n",
       "<circle clip-path=\"url(#clip3202)\" style=\"fill:#009af9; stroke:none; fill-opacity:1\" cx=\"399.793\" cy=\"190.139\" r=\"14\"/>\n",
       "<polyline clip-path=\"url(#clip3202)\" style=\"stroke:#e26f46; stroke-width:4; stroke-opacity:1; fill:none\" points=\"\n",
       "  243.444,160.33 248.564,160.362 253.684,160.459 258.803,160.62 263.923,160.845 269.043,161.135 274.162,161.489 279.282,161.908 284.402,162.39 289.522,162.937 \n",
       "  294.641,163.548 299.761,164.224 304.881,164.963 310,165.766 315.12,166.633 320.24,167.564 325.359,168.559 330.479,169.617 335.599,170.738 340.718,171.924 \n",
       "  345.838,173.172 350.958,174.483 356.077,175.858 361.197,177.295 366.317,178.795 371.437,180.358 376.556,181.983 381.676,183.67 386.796,185.42 391.915,187.231 \n",
       "  397.035,189.104 402.155,191.039 407.274,193.035 412.394,195.092 417.514,197.21 422.633,199.389 427.753,201.628 432.873,203.928 437.992,206.287 443.112,208.707 \n",
       "  448.232,211.186 453.352,213.724 458.471,216.322 463.591,218.978 468.711,221.693 473.83,224.466 478.95,227.298 484.07,230.186 489.189,233.133 494.309,236.136 \n",
       "  499.429,239.197 504.548,242.314 509.668,245.487 514.788,248.716 519.907,252 525.027,255.34 530.147,258.735 535.267,262.184 540.386,265.688 545.506,269.246 \n",
       "  550.626,272.857 555.745,276.521 560.865,280.238 565.985,284.007 571.104,287.829 576.224,291.702 581.344,295.626 586.463,299.602 591.583,303.628 596.703,307.704 \n",
       "  601.823,311.829 606.942,316.004 612.062,320.228 617.182,324.5 622.301,328.82 627.421,333.188 632.541,337.603 637.66,342.065 642.78,346.572 647.9,351.126 \n",
       "  653.019,355.725 658.139,360.369 663.259,365.057 668.378,369.79 673.498,374.565 678.618,379.384 683.738,384.245 688.857,389.149 693.977,394.094 699.097,399.079 \n",
       "  704.216,404.106 709.336,409.172 714.456,414.278 719.575,419.423 724.695,424.607 729.815,429.829 734.934,435.088 740.054,440.384 745.174,445.716 750.293,451.084 \n",
       "  755.413,456.488 760.533,461.926 765.653,467.399 770.772,472.906 775.892,478.445 781.012,484.017 786.131,489.622 791.251,495.257 796.371,500.924 801.49,506.621 \n",
       "  806.61,512.348 811.73,518.104 816.849,523.889 821.969,529.702 827.089,535.542 832.208,541.409 837.328,547.303 842.448,553.222 847.568,559.166 852.687,565.135 \n",
       "  857.807,571.128 862.927,577.144 868.046,583.183 873.166,589.244 878.286,595.327 883.405,601.43 888.525,607.554 893.645,613.698 898.764,619.86 903.884,626.041 \n",
       "  909.004,632.24 914.123,638.457 919.243,644.689 924.363,650.938 929.483,657.202 934.602,663.481 939.722,669.774 944.842,676.081 949.961,682.4 955.081,688.732 \n",
       "  960.201,695.075 965.32,701.429 970.44,707.793 975.56,714.167 980.679,720.55 985.799,726.942 990.919,733.341 996.039,739.748 1001.16,746.161 1006.28,752.579 \n",
       "  1011.4,759.003 1016.52,765.432 1021.64,771.864 1026.76,778.3 1031.88,784.738 1037,791.178 1042.12,797.62 1047.24,804.062 1052.36,810.505 1057.47,816.946 \n",
       "  1062.59,823.387 1067.71,829.826 1072.83,836.262 1077.95,842.695 1083.07,849.124 1088.19,855.549 1093.31,861.968 1098.43,868.382 1103.55,874.79 1108.67,881.19 \n",
       "  1113.79,887.583 1118.91,893.967 1124.03,900.343 1129.15,906.709 1134.27,913.065 1139.39,919.41 1144.51,925.743 1149.63,932.064 1154.75,938.373 1159.87,944.668 \n",
       "  1164.99,950.949 1170.11,957.216 1175.23,963.467 1180.35,969.702 1185.47,975.921 1190.59,982.123 1195.71,988.307 1200.83,994.473 1205.95,1000.62 1211.07,1006.75 \n",
       "  1216.19,1012.85 1221.3,1018.94 1226.42,1025 1231.54,1031.05 1236.66,1037.07 1241.78,1043.06 1246.9,1049.04 1252.02,1054.98 1257.14,1060.91 1262.26,1066.8 \n",
       "  1267.38,1072.68 1272.5,1078.52 1277.62,1084.34 1282.74,1090.13 1287.86,1095.89 1292.98,1101.62 1298.1,1107.32 1303.22,1112.99 1308.34,1118.63 1313.46,1124.24 \n",
       "  1318.58,1129.82 1323.7,1135.37 1328.82,1140.88 1333.94,1146.35 1339.06,1151.8 1344.18,1157.21 1349.3,1162.58 1354.42,1167.92 1359.54,1173.22 1364.66,1178.49 \n",
       "  1369.78,1183.71 1374.9,1188.9 1380.02,1194.06 1385.13,1199.17 1390.25,1204.24 1395.37,1209.27 1400.49,1214.27 1405.61,1219.22 1410.73,1224.13 1415.85,1229 \n",
       "  1420.97,1233.82 1426.09,1238.6 1431.21,1243.34 1436.33,1248.04 1441.45,1252.69 1446.57,1257.3 1451.69,1261.86 1456.81,1266.37 1461.93,1270.84 1467.05,1275.26 \n",
       "  1472.17,1279.64 1477.29,1283.97 1482.41,1288.25 1487.53,1292.48 1492.65,1296.66 1497.77,1300.79 1502.89,1304.88 1508.01,1308.91 1513.13,1312.89 1518.25,1316.83 \n",
       "  1523.37,1320.71 1528.49,1324.54 1533.61,1328.32 1538.73,1332.04 1543.85,1335.71 1548.96,1339.33 1554.08,1342.9 1559.2,1346.41 1564.32,1349.87 1569.44,1353.27 \n",
       "  1574.56,1356.62 1579.68,1359.92 1584.8,1363.15 1589.92,1366.34 1595.04,1369.46 1600.16,1372.53 1605.28,1375.54 1610.4,1378.5 1615.52,1381.4 1620.64,1384.24 \n",
       "  1625.76,1387.02 1630.88,1389.74 1636,1392.41 1641.12,1395.02 1646.24,1397.56 1651.36,1400.05 1656.48,1402.48 1661.6,1404.85 1666.72,1407.16 1671.84,1409.41 \n",
       "  1676.96,1411.6 1682.08,1413.73 1687.2,1415.79 1692.32,1417.8 1697.44,1419.74 1702.56,1421.63 1707.68,1423.45 1712.79,1425.21 1717.91,1426.9 1723.03,1428.54 \n",
       "  1728.15,1430.11 1733.27,1431.62 1738.39,1433.07 1743.51,1434.45 1748.63,1435.77 1753.75,1437.03 1758.87,1438.23 1763.99,1439.36 1769.11,1440.43 1774.23,1441.43 \n",
       "  1779.35,1442.37 1784.47,1443.25 1789.59,1444.06 1794.71,1444.81 1799.83,1445.5 1804.95,1446.12 1810.07,1446.68 1815.19,1447.17 1820.31,1447.6 1825.43,1447.96 \n",
       "  1830.55,1448.26 1835.67,1448.5 1840.79,1448.67 1845.91,1448.78 1851.03,1448.82 1856.15,1448.8 1861.27,1448.71 1866.39,1448.56 1871.51,1448.35 1876.62,1448.07 \n",
       "  1881.74,1447.72 1886.86,1447.31 1891.98,1446.84 1897.1,1446.3 1902.22,1445.7 1907.34,1445.04 1912.46,1444.31 1917.58,1443.52 1922.7,1442.66 1927.82,1441.74 \n",
       "  1932.94,1440.75 1938.06,1439.71 1943.18,1438.6 1948.3,1437.42 1953.42,1436.18 1958.54,1434.88 1963.66,1433.52 1968.78,1432.09 1973.9,1430.6 1979.02,1429.05 \n",
       "  1984.14,1427.43 1989.26,1425.75 1994.38,1424.01 1999.5,1422.21 2004.62,1420.35 2009.74,1418.42 2014.86,1416.44 2019.98,1414.39 2025.1,1412.28 2030.22,1410.11 \n",
       "  2035.34,1407.88 2040.45,1405.59 2045.57,1403.24 2050.69,1400.83 2055.81,1398.36 2060.93,1395.83 2066.05,1393.25 2071.17,1390.6 2076.29,1387.89 2081.41,1385.13 \n",
       "  2086.53,1382.31 2091.65,1379.43 2096.77,1376.49 2101.89,1373.5 2107.01,1370.45 2112.13,1367.34 2117.25,1364.17 2122.37,1360.95 2127.49,1357.68 2132.61,1354.35 \n",
       "  2137.73,1350.96 2142.85,1347.52 2147.97,1344.02 2153.09,1340.48 2158.21,1336.87 2163.33,1333.22 2168.45,1329.51 2173.57,1325.75 2178.69,1321.93 2183.81,1318.07 \n",
       "  2188.93,1314.15 2194.05,1310.19 2199.17,1306.17 2204.28,1302.1 2209.4,1297.98 2214.52,1293.81 2219.64,1289.6 2224.76,1285.33 2229.88,1281.02 2235,1276.66 \n",
       "  2240.12,1272.25 2245.24,1267.8 2250.36,1263.3 2255.48,1258.75 2260.6,1254.16 2265.72,1249.52 2270.84,1244.84 2275.96,1240.12 2281.08,1235.35 2286.2,1230.54 \n",
       "  2291.32,1225.68 \n",
       "  \"/>\n",
       "</svg>\n"
      ]
     },
     "execution_count": 7,
     "metadata": {},
     "output_type": "execute_result"
    }
   ],
   "source": [
    "# now the plots\n",
    "using Plots; gr()    # it is sometimes convenient to cram a line in this way\n",
    "\n",
    "#first the plot of the approximation points\n",
    "scatter(x1, y1, legend=:false, title=\"Illustrating 6th-order approximation to cos\")\n",
    "\n",
    "plot!(x2, y2)   #then add the accurate line with plot!()"
   ]
  },
  {
   "cell_type": "markdown",
   "metadata": {},
   "source": [
    "[Back to the top](#In-this-lecture)"
   ]
  }
 ],
 "metadata": {
  "hide_input": false,
  "kernelspec": {
   "display_name": "Julia 1.0.3",
   "language": "julia",
   "name": "julia-1.0"
  },
  "language_info": {
   "file_extension": ".jl",
   "mimetype": "application/julia",
   "name": "julia",
   "version": "1.0.3"
  },
  "varInspector": {
   "cols": {
    "lenName": 16,
    "lenType": 16,
    "lenVar": 40
   },
   "kernels_config": {
    "python": {
     "delete_cmd_postfix": "",
     "delete_cmd_prefix": "del ",
     "library": "var_list.py",
     "varRefreshCmd": "print(var_dic_list())"
    },
    "r": {
     "delete_cmd_postfix": ") ",
     "delete_cmd_prefix": "rm(",
     "library": "var_list.r",
     "varRefreshCmd": "cat(var_dic_list()) "
    }
   },
   "types_to_exclude": [
    "module",
    "function",
    "builtin_function_or_method",
    "instance",
    "_Feature"
   ],
   "window_display": false
  }
 },
 "nbformat": 4,
 "nbformat_minor": 1
}
