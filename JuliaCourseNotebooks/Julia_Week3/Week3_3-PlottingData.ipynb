{
 "cells": [
  {
   "cell_type": "code",
   "execution_count": null,
   "metadata": {},
   "outputs": [],
   "source": [
    "# Setting up a custom stylesheet in IJulia\n",
    "file = open(\"style.css\") # A .css file in the same folder as this notebook file\n",
    "styl = read(file, String) # Read the file\n",
    "HTML(\"$styl\") # Output as HTML"
   ]
  },
  {
   "cell_type": "markdown",
   "metadata": {},
   "source": [
    "<h1> Plotting data and an approximately fitted line simultaneously </h1>"
   ]
  },
  {
   "cell_type": "markdown",
   "metadata": {},
   "source": [
    "<h2>In this lecture</h2>\n",
    "\n",
    "- [Outcome](#Outcome)\n",
    "- [Julia's modify-the-argument functions](#Julia's-modify-the-argument-functions)\n",
    "- [The difference between plot() and plot!()](#The-difference-between-\"plot\"-and-\"plot!\")\n",
    "- [An example: approximating the cosine function](#An-example:-approximating-the-cosine-function)"
   ]
  },
  {
   "cell_type": "markdown",
   "metadata": {},
   "source": [
    "[Back to the top](#In-this-lecture)"
   ]
  },
  {
   "cell_type": "markdown",
   "metadata": {},
   "source": [
    "<h2>Outcome</h2>\n",
    "\n",
    "After this lecture, you will be able to\n",
    "- Explain how, in Julia's Plots package, the ``plot!()`` function differs from ``plot()``\n",
    "- Use ``plot!()`` to overlay a fitted curve to a scatter of data\n",
    "- Modify the plot: adding labels, axis styles, line styles etc\n"
   ]
  },
  {
   "cell_type": "markdown",
   "metadata": {},
   "source": [
    "[Back to the top](#In-this-lecture)"
   ]
  },
  {
   "cell_type": "markdown",
   "metadata": {},
   "source": [
    "<h2>Julia's modify-the-argument functions</h2>\n",
    "\n",
    "A lovely feature of Julia is the convention of labelling modify-the-argument functions with an exclamation mark.\n",
    "\n",
    "For example, consider the function ``fill!()``, illustrated below."
   ]
  },
  {
   "cell_type": "code",
   "execution_count": null,
   "metadata": {},
   "outputs": [],
   "source": [
    "tempvar = Array{Any}(undef,4)\n",
    "fill!(tempvar, \"hello ... word\")"
   ]
  },
  {
   "cell_type": "code",
   "execution_count": null,
   "metadata": {},
   "outputs": [],
   "source": [
    "fill!(tempvar, π)"
   ]
  },
  {
   "cell_type": "markdown",
   "metadata": {},
   "source": [
    "We see that quite a few functions have a plain form and an exclamation form, for example ```any``` and ```any!```. \n",
    "\n",
    "Many of the exclamation-ending-modify-in-place functions do things like add or remove values. They tend to be low level functions. The advantage of course is that as values are created they are written to space in memory that is already in use. This can speed up one's code significantly, and can also be important when your data sets are so large that memory efficiency becomes an issue."
   ]
  },
  {
   "cell_type": "markdown",
   "metadata": {},
   "source": [
    "[Back to the top](#In-this-lecture)"
   ]
  },
  {
   "cell_type": "markdown",
   "metadata": {},
   "source": [
    "<h2>The difference between \"plot\" and \"plot!\"</h2>\n",
    "\n",
    "As we remarked, Plots is a package for using all the Julia plotting packages. The designer of Plots made the interesting choice (I think) to have only one active plot: if you want to make a different plot, you save your current plot and start on a new one. This simplifies the display of a plot. In our case, the notebook allows us to view different plots, because each plot is saved with its particular cell. In keeping with the idea of Plots, you cannot associate more than one plot with a cell.\n",
    "\n",
    "So in general, if you call p``lot()`` a second time, it wipes out the old plot and draws a completely new one. But Plots *also* doesn't allow you to specify multiple different x-values for your plot. You can plot many different curves, as we did for the different countries' Ebola numbers (week 2, lecture 5), but only if they all use the same x-values.\n",
    "\n",
    "To enable us to plot completely different curves, not only in style and colour and so on but also completely different x- and y-values, Plots gives us a function that modifies an existing plot. This function is ``plot!()``.\n",
    "\n",
    "So the idea is the following: specify a plot for the first set of data using ``plot()``, and then specify, on the same plot, a second set of data by using ``plot!``."
   ]
  },
  {
   "cell_type": "markdown",
   "metadata": {},
   "source": [
    "[Back to the top](#In-this-lecture)"
   ]
  },
  {
   "cell_type": "markdown",
   "metadata": {},
   "source": [
    "<h2>An example: approximating the cosine function</h2>\n",
    "\n",
    "An example will make this clear. It is well known that the cosine function has approximations based on  Taylor series. We will use the fact that \n",
    "\n",
    "$cos(x) \\approx 1 - \\dfrac{x^2}{2} + \\dfrac{x^4}{24} - \\dfrac{x^6}{720}$\n",
    "\n",
    "is an excellent approximation as long as $x$ is near zero. We will pretend the approximate values are experimental data, so there are just a few points. Then we compare the actual function as a curve, and compare them.\n",
    "\n",
    "While we're at it, let's practice writing functions. We will write a function that takes a whole vector as input, and one by one evaluates the elements using the approximation formula, and then returns an output vector of the same size as the input."
   ]
  },
  {
   "cell_type": "code",
   "execution_count": null,
   "metadata": {},
   "outputs": [],
   "source": [
    "function approxcos(x)\n",
    "    #initialise the output ... note the use of size() to specify the dimensions of the output vector\n",
    "    outval = Array{Any}(undef,size(x))  \n",
    "    \n",
    "    # now we loop over the input vector, and for each  element calculate and store the approximation\n",
    "    ii = 0  # this will be the index into the vector\n",
    "    for aa in x   # this aa is just a number, an element of the vector\n",
    "        y = 1 - aa^2/2 + aa^4/24 - aa^6/720 + aa^8/(56*720) # the approximation ...\n",
    "        ii = ii+1            #this sets the index correctly\n",
    "        outval[ii] = y     # and this stores the approximation in the right place\n",
    "    \n",
    "    end\n",
    "    \n",
    "    return outval  \n",
    "end\n",
    "\n",
    "\n",
    "\n",
    "\n",
    "x1 = 4*rand(10)  # rand() is one of several random number functions in Julia. \n",
    "#                  It returns numbers that uniformly fill the interval [0, 1)\n",
    "#                   .... here we use it get a set of sampling points in the interval [0, 4)\n",
    "\n",
    "x2 = range(0., stop=4., step=0.01)   # look up range() using \"?\" ... it's a nice way to get evenly spaced points\n",
    "\n",
    "\n",
    "y1 = approxcos(x1)\n",
    "y2 = cos.(x2);\n"
   ]
  },
  {
   "cell_type": "code",
   "execution_count": null,
   "metadata": {
    "scrolled": false
   },
   "outputs": [],
   "source": [
    "# now the plots\n",
    "using Plots; gr()    # it is sometimes convenient to cram a line in this way\n",
    "\n",
    "#first the plot of the approximation points\n",
    "scatter(x1, y1, legend=:false, title=\"Illustrating 6th-order approximation to cos\")\n",
    "\n",
    "plot!(x2, y2)   #then add the accurate line with plot!()"
   ]
  },
  {
   "cell_type": "markdown",
   "metadata": {},
   "source": [
    "[Back to the top](#In-this-lecture)"
   ]
  }
 ],
 "metadata": {
  "hide_input": false,
  "kernelspec": {
   "display_name": "Julia 1.0.0",
   "language": "julia",
   "name": "julia-1.0"
  },
  "language_info": {
   "file_extension": ".jl",
   "mimetype": "application/julia",
   "name": "julia",
   "version": "1.0.0"
  },
  "varInspector": {
   "cols": {
    "lenName": 16,
    "lenType": 16,
    "lenVar": 40
   },
   "kernels_config": {
    "python": {
     "delete_cmd_postfix": "",
     "delete_cmd_prefix": "del ",
     "library": "var_list.py",
     "varRefreshCmd": "print(var_dic_list())"
    },
    "r": {
     "delete_cmd_postfix": ") ",
     "delete_cmd_prefix": "rm(",
     "library": "var_list.r",
     "varRefreshCmd": "cat(var_dic_list()) "
    }
   },
   "types_to_exclude": [
    "module",
    "function",
    "builtin_function_or_method",
    "instance",
    "_Feature"
   ],
   "window_display": false
  }
 },
 "nbformat": 4,
 "nbformat_minor": 1
}
