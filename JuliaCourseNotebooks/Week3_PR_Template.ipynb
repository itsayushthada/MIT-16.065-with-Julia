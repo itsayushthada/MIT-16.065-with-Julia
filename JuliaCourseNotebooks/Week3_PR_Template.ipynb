{
 "cells": [
  {
   "cell_type": "markdown",
   "metadata": {},
   "source": [
    "# Change to my Week 3 Assignment Title"
   ]
  },
  {
   "cell_type": "code",
   "execution_count": 1,
   "metadata": {},
   "outputs": [
    {
     "data": {
      "text/plain": [
       "Plots.GRBackend()"
      ]
     },
     "execution_count": 1,
     "metadata": {},
     "output_type": "execute_result"
    }
   ],
   "source": [
    "# You may need this setup\n",
    "using Plots\n",
    "gr() # Activate the GR backend for use with Plots"
   ]
  },
  {
   "cell_type": "markdown",
   "metadata": {},
   "source": [
    "Import the supplied data representing 15 pairs to x- and y-values. "
   ]
  },
  {
   "cell_type": "code",
   "execution_count": 2,
   "metadata": {},
   "outputs": [
    {
     "data": {
      "text/plain": [
       "15×2 Array{Float64,2}:\n",
       " 1.68005    -1.6417  \n",
       " 0.501309   -0.977698\n",
       " 1.52801     0.527711\n",
       " 1.70012     1.71152 \n",
       " 1.99249     1.891   \n",
       " 2.70608    -0.463428\n",
       " 2.99493    -0.443567\n",
       " 3.49185    -1.27518 \n",
       " 3.50119    -0.6905  \n",
       " 4.45992    -5.51613 \n",
       " 4.93697    -6.0017  \n",
       " 5.02329    -8.36417 \n",
       " 5.04234    -7.92448 \n",
       " 5.50739   -10.7748  \n",
       " 5.56867   -10.9172  "
      ]
     },
     "execution_count": 2,
     "metadata": {},
     "output_type": "execute_result"
    }
   ],
   "source": [
    "data_tofit = [1.6800483    -1.641695388; \n",
    "              0.501309281  -0.977697538; \n",
    "              1.528012113   0.52771122;\n",
    "              1.70012253    1.711524991; \n",
    "              1.992493625   1.891000015;\n",
    "              2.706075824  -0.463427794;\n",
    "              2.994931927  -0.443566619;\n",
    "              3.491852811  -1.275179133;\n",
    "              3.501191722  -0.690499597;\n",
    "              4.459924502  -5.516130799;\n",
    "              4.936965851  -6.001703074;\n",
    "              5.023289852  -8.36416901;\n",
    "              5.04233698   -7.924477517;\n",
    "              5.50739285  -10.77482371;\n",
    "              5.568665171 -10.9171878]\n",
    "\n",
    "# Create the arrays x and y, assigning x the first column of data_tofit and y the second column\n"
   ]
  },
  {
   "cell_type": "markdown",
   "metadata": {},
   "source": [
    "Then we do a scatterplot, this gives us the points the line must go through."
   ]
  },
  {
   "cell_type": "code",
   "execution_count": 3,
   "metadata": {},
   "outputs": [],
   "source": [
    "# Plot the x and y data points using a scatter plot of the x and y array variables\n"
   ]
  },
  {
   "cell_type": "markdown",
   "metadata": {},
   "source": [
    "For the line, we need a function, which we now define. Note that the parameters a, b, c need not be passed to the function: we will keep resetting them to try to improve the fit."
   ]
  },
  {
   "cell_type": "code",
   "execution_count": 4,
   "metadata": {},
   "outputs": [],
   "source": [
    "# Create a function called parabfit, with x as the argument, returning a*x^2 + b*x + c\n"
   ]
  },
  {
   "cell_type": "markdown",
   "metadata": {},
   "source": [
    "Let's check that we do get a reasonable parabola. Choose your own interval [xmin, xmax] and parameters a, b, c. If it looks too much like a straight line, chance your choices until it does."
   ]
  },
  {
   "cell_type": "code",
   "execution_count": 5,
   "metadata": {},
   "outputs": [
    {
     "data": {
      "text/plain": [
       "1"
      ]
     },
     "execution_count": 5,
     "metadata": {},
     "output_type": "execute_result"
    }
   ],
   "source": [
    "# Create variables a, b and c, assigning each the value 1\n",
    "a = 1\n",
    "b = 1\n",
    "c = 1\n",
    "\n",
    "# Plot the function parabfit, for x values between -5 and 5 \n"
   ]
  },
  {
   "cell_type": "markdown",
   "metadata": {},
   "source": [
    "Now we choose a, b, c and plot the curve together with the points. \n",
    "\n",
    "Note that by looking at where the data points lie, we can deduce some of the properties for a, b, c, as follows.\n",
    "\n",
    "The plot must have a y-intersection that is close to 0, so c is close to 0. Also, the parabola is open downwards, so a must be negative. Finally, it has its maximum at a positive x, so b must be positive. \n",
    "\n",
    "Use plot() to start with the scatter plot and plot!() to add the curve for parabfit. (There are other ways to do this ...)"
   ]
  },
  {
   "cell_type": "code",
   "execution_count": 6,
   "metadata": {},
   "outputs": [],
   "source": [
    "# More plot!() tries.\n",
    "# a,b,c = \n"
   ]
  }
 ],
 "metadata": {
  "kernelspec": {
   "display_name": "Julia 1.0.3",
   "language": "julia",
   "name": "julia-1.0"
  },
  "language_info": {
   "file_extension": ".jl",
   "mimetype": "application/julia",
   "name": "julia",
   "version": "1.0.3"
  }
 },
 "nbformat": 4,
 "nbformat_minor": 1
}
